{
 "cells": [
  {
   "cell_type": "code",
   "execution_count": 4,
   "id": "cf55eeb3-d416-442b-b136-ed49209c7eea",
   "metadata": {},
   "outputs": [
    {
     "name": "stdout",
     "output_type": "stream",
     "text": [
      "Done\n"
     ]
    }
   ],
   "source": [
    "import os\n",
    "import torch\n",
    "from PIL import Image, ImageDraw\n",
    "from torchvision import models, transforms\n",
    "import torch.nn as nn\n",
    "from annoy import AnnoyIndex\n",
    "\n",
    "images_folder = \"/Users/younes/Downloads/archive/PetImages/Dog\"\n",
    "weights = models.resnet50(pretrained=True)\n",
    "model = models.resnet50(weights=weights)\n",
    "model.fc = nn.Identity()\n",
    "model.eval()\n",
    "images = [img for img in os.listdir(images_folder) if img.endswith(('.jpg', '.jpeg', '.png'))]  # Filter only image files\n",
    "\n",
    "transform = transforms.Compose([\n",
    "    transforms.Resize((224, 224)),\n",
    "    transforms.ToTensor()\n",
    "])\n",
    "\n",
    "annoy_index = AnnoyIndex(2048, 'angular')\n",
    "annoy_index.load('/Users/younes/ImageSimilarity/dog_index_moreacc.ann')\n",
    "\n",
    "# Load the input image for which you want to find neighbors\n",
    "input_image_path = \"National-Dog-Day--960x640.jpeg\"\n",
    "input_image = Image.open(input_image_path)\n",
    "input_tensor = transform(input_image).unsqueeze(0)\n",
    "\n",
    "if input_tensor.size()[1] == 3:\n",
    "    output_tensor = model(input_tensor)\n",
    "    # Find the 7 nearest neighbors of the input image with their distances\n",
    "    nns, distances = annoy_index.get_nns_by_vector(output_tensor[0], 24, include_distances=True)\n",
    "    # Create an image grid to display the input image and its 7 nearest neighbors\n",
    "    image_grid = Image.new('RGB', (1400, 400))\n",
    "    # Paste the input image in the image grid\n",
    "    input_image_resized = input_image.resize((200, 200))\n",
    "    input_image_draw = ImageDraw.Draw(input_image_resized)\n",
    "    input_image_draw.rectangle([(0, 0), (199, 199)], outline='red', width=8)\n",
    "    image_grid.paste(input_image_resized)\n",
    "\n",
    "    # Paste the 7 nearest neighbor images in the image grid\n",
    "    for j, nn_index in enumerate(nns):\n",
    "        neighbor_image = Image.open(os.path.join(images_folder, images[nn_index]))\n",
    "        neighbor_image_resized = neighbor_image.resize((200, 200))\n",
    "        image_grid.paste(neighbor_image_resized, (200 * (j + 1), 0))\n",
    "    image_grid.save('/Users/younes/ImageSimilarity/testFolder/nghImage2.png')\n",
    "    print(\"Done\")\n"
   ]
  },
  {
   "cell_type": "code",
   "execution_count": null,
   "id": "e987c04a-5ff8-419f-977e-c21b7d79b339",
   "metadata": {},
   "outputs": [],
   "source": []
  }
 ],
 "metadata": {
  "kernelspec": {
   "display_name": "Python 3 (ipykernel)",
   "language": "python",
   "name": "python3"
  },
  "language_info": {
   "codemirror_mode": {
    "name": "ipython",
    "version": 3
   },
   "file_extension": ".py",
   "mimetype": "text/x-python",
   "name": "python",
   "nbconvert_exporter": "python",
   "pygments_lexer": "ipython3",
   "version": "3.11.7"
  }
 },
 "nbformat": 4,
 "nbformat_minor": 5
}
