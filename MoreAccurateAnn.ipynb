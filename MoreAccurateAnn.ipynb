{
 "cells": [
  {
   "cell_type": "code",
   "execution_count": 6,
   "id": "c7f585d0-eabf-4bb2-befa-aac223857b7e",
   "metadata": {},
   "outputs": [
    {
     "name": "stdout",
     "output_type": "stream",
     "text": [
      "Processed 0 images.\n",
      "Processed 100 images.\n",
      "Processed 200 images.\n",
      "Processed 300 images.\n",
      "Processed 400 images.\n",
      "Processed 500 images.\n"
     ]
    },
    {
     "data": {
      "text/plain": [
       "True"
      ]
     },
     "execution_count": 6,
     "metadata": {},
     "output_type": "execute_result"
    }
   ],
   "source": [
    "import os\n",
    "import torch\n",
    "from PIL import Image\n",
    "from torchvision import models, transforms\n",
    "import torch.nn as nn\n",
    "from annoy import AnnoyIndex\n",
    "\n",
    "images_folder = \"/Users/younes/Downloads/archive/PetImages/Dog\"\n",
    "images = [img for img in os.listdir(images_folder) if img.endswith(('.jpg', '.jpeg', '.png'))]  # Filter only image files\n",
    "\n",
    "# Use ResNet50 model for better feature extraction\n",
    "weights = models.resnet50(pretrained=True)\n",
    "model = models.resnet50(weights=weights)\n",
    "model.fc = nn.Identity()\n",
    "model.eval()\n",
    "\n",
    "transform = transforms.Compose([\n",
    "    transforms.Resize((224, 224)),\n",
    "    transforms.ToTensor()\n",
    "])\n",
    "\n",
    "# Increase dimensionality of feature vectors to 2048 for ResNet50\n",
    "annoy_index = AnnoyIndex(2048, 'angular')\n",
    "\n",
    "for i, image_name in enumerate(images):\n",
    "    image_path = os.path.join(images_folder, image_name)\n",
    "    image = Image.open(image_path)\n",
    "    input_tensor = transform(image).unsqueeze(0)\n",
    "\n",
    "    if input_tensor.size()[1] == 3:\n",
    "        output_tensor = model(input_tensor)\n",
    "        annoy_index.add_item(i, output_tensor[0])\n",
    "        if i % 100 == 0:\n",
    "            print(f'Processed {i} images.')\n",
    "\n",
    "# Build the Annoy index with more trees for better accuracy\n",
    "annoy_index.build(100)\n",
    "annoy_index.save('dog_index_moreacc.ann')\n"
   ]
  },
  {
   "cell_type": "code",
   "execution_count": null,
   "id": "5d508604-0eeb-411c-a85f-0751f8d4b89e",
   "metadata": {},
   "outputs": [],
   "source": []
  }
 ],
 "metadata": {
  "kernelspec": {
   "display_name": "Python 3 (ipykernel)",
   "language": "python",
   "name": "python3"
  },
  "language_info": {
   "codemirror_mode": {
    "name": "ipython",
    "version": 3
   },
   "file_extension": ".py",
   "mimetype": "text/x-python",
   "name": "python",
   "nbconvert_exporter": "python",
   "pygments_lexer": "ipython3",
   "version": "3.11.7"
  }
 },
 "nbformat": 4,
 "nbformat_minor": 5
}
