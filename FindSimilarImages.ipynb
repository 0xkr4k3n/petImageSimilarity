{
 "cells": [
  {
   "cell_type": "code",
   "execution_count": null,
   "id": "d672c81d-a0ad-48ff-97ee-370a7c774b3f",
   "metadata": {},
   "outputs": [],
   "source": [
    "import os\n",
    "import torch\n",
    "from PIL import Image,ImageFont,ImageDraw\n",
    "from torchvision import models,transforms\n",
    "import torch.nn as nn\n",
    "from annoy import AnnoyIndex\n",
    "\n",
    "images_folder=\"/Users/younes/Downloads/archive/PetImages/Dog\"\n",
    "images=os.listdir(images_folder)\n",
    "weights=models.ResNet18_Weights.IMAGENET1K_V1\n",
    "model=models.resnet18(weights=weights)\n",
    "model.fc=nn.Identity()\n",
    "model.eval()\n",
    "\n",
    "transform=transforms.Compose([\n",
    "    transforms.Resize((224,224)),\n",
    "    transforms.ToTensor()\n",
    "])\n",
    "annoy_index= AnnoyIndex(512,'angular')\n",
    "annoy_index.load('/Users/younes/Imagesimilarity/dog_index.ann')\n",
    "\n",
    "image_grid=Image.new('RGB',(1000,1000))\n",
    "\n",
    "for i in range(len(images)-10000):\n",
    "    image=Image.open(os.path.join(images_folder,images[i]))\n",
    "    input_tensor=transform(image).unsqueeze(0)\n",
    "\n",
    "    if input_tensor.size()[1]== 3:\n",
    "        output_tensor=model(input_tensor)\n",
    "        \n",
    "        nns = annoy_index.get_nns_by_vector(output_tensor[0],24)\n",
    "        image=image.resize((200,200))\n",
    "        image_draw=ImageDraw.Draw(image)\n",
    "        image_draw.rectangle([(0,0),(199,199)],outline='red',width=8)\n",
    "        image_grid.paste(image)\n",
    "\n",
    "        for j in range(24):\n",
    "            search_image=Image.open(os.path.join(images_folder,images[nns[j]]))\n",
    "            search_image=search_image.resize((200,200))\n",
    "            image_grid.paste(search_image,(200*((j+1)%5),200*((j+1)//5)))\n",
    "            image_grid.save(f'Downloads/image_{i}.png')\n",
    "print(\"done\")\n",
    "\n",
    "\n",
    "\n",
    "\n",
    "\n"
   ]
  },
  {
   "cell_type": "code",
   "execution_count": null,
   "id": "59022f61-a22e-4815-abaa-4f0bd6336b88",
   "metadata": {},
   "outputs": [],
   "source": []
  },
  {
   "cell_type": "code",
   "execution_count": null,
   "id": "0d983e80-8a11-4dec-b1c2-501a87514579",
   "metadata": {},
   "outputs": [],
   "source": []
  },
  {
   "cell_type": "code",
   "execution_count": null,
   "id": "c1b379ba-111a-4ebb-a1a0-41f79519bf9a",
   "metadata": {},
   "outputs": [],
   "source": []
  },
  {
   "cell_type": "code",
   "execution_count": null,
   "id": "c6fe459f-dd6f-4f03-9c17-853759fa3d58",
   "metadata": {},
   "outputs": [],
   "source": []
  }
 ],
 "metadata": {
  "kernelspec": {
   "display_name": "Python 3 (ipykernel)",
   "language": "python",
   "name": "python3"
  },
  "language_info": {
   "codemirror_mode": {
    "name": "ipython",
    "version": 3
   },
   "file_extension": ".py",
   "mimetype": "text/x-python",
   "name": "python",
   "nbconvert_exporter": "python",
   "pygments_lexer": "ipython3",
   "version": "3.11.7"
  }
 },
 "nbformat": 4,
 "nbformat_minor": 5
}
